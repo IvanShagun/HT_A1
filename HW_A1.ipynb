{
 "cells": [
  {
   "cell_type": "code",
   "execution_count": 1,
   "id": "9d42217b",
   "metadata": {},
   "outputs": [],
   "source": [
    "import numpy as np"
   ]
  },
  {
   "cell_type": "code",
   "execution_count": 7,
   "id": "c7528859",
   "metadata": {},
   "outputs": [],
   "source": [
    "from math import factorial"
   ]
  },
  {
   "cell_type": "code",
   "execution_count": 8,
   "id": "ad0cd922",
   "metadata": {},
   "outputs": [],
   "source": [
    "def soch (n, k):\n",
    "    return np.math.factorial(n) // (np.math.factorial(k) * np.math.factorial(n-k))"
   ]
  },
  {
   "cell_type": "markdown",
   "id": "4d09b305",
   "metadata": {},
   "source": [
    "##### 1. Из колоды в 52 карты извлекаются случайным образом 4 карты.<br> a) Найти вероятность того, что все карты – крести.<br> б) Найти вероятность, что среди 4-х карт окажется хотя бы один туз."
   ]
  },
  {
   "cell_type": "markdown",
   "id": "0c46fbd6",
   "metadata": {},
   "source": [
    "a) общее число исходов = $ C_{52}^{4} $, число исходов с 4 трефами = $ C_{13}^{4}$"
   ]
  },
  {
   "cell_type": "code",
   "execution_count": 47,
   "id": "cc48b389",
   "metadata": {},
   "outputs": [
    {
     "data": {
      "text/plain": [
       "0.26410564225690275"
      ]
     },
     "execution_count": 47,
     "metadata": {},
     "output_type": "execute_result"
    }
   ],
   "source": [
    "(soch(13, 4) / soch(52, 4))*100"
   ]
  },
  {
   "cell_type": "markdown",
   "id": "b4020aed",
   "metadata": {},
   "source": [
    "Ответ: 0.26%"
   ]
  },
  {
   "cell_type": "markdown",
   "id": "656ed4ac",
   "metadata": {},
   "source": [
    "б) общее число исходов = $ C_{52}^{4} $, число исходов без туза = $ C_{48}^{4} $"
   ]
  },
  {
   "cell_type": "code",
   "execution_count": 51,
   "id": "097fa28b",
   "metadata": {},
   "outputs": [
    {
     "data": {
      "text/plain": [
       "28.12632745405854"
      ]
     },
     "execution_count": 51,
     "metadata": {},
     "output_type": "execute_result"
    }
   ],
   "source": [
    "(1 - (soch(48, 4) / soch(52, 4)))*100"
   ]
  },
  {
   "cell_type": "markdown",
   "id": "c71e4a5e",
   "metadata": {},
   "source": [
    "Ответ: 28.13%"
   ]
  },
  {
   "cell_type": "markdown",
   "id": "a473666e",
   "metadata": {},
   "source": [
    "##### 2. На входной двери подъезда установлен кодовый замок, содержащий десять кнопок с цифрами от 0 до 9. Код содержит три цифры, которые нужно нажать одновременно.<br> Какова вероятность того, что человек, не знающий код, откроет дверь с первой попытки?"
   ]
  },
  {
   "cell_type": "markdown",
   "id": "8ff8ffe7",
   "metadata": {},
   "source": [
    "Общее число вариантов кода $ C_{10}^{3} $, всего 1 попытка на ввод"
   ]
  },
  {
   "cell_type": "code",
   "execution_count": 53,
   "id": "84104b75",
   "metadata": {},
   "outputs": [
    {
     "data": {
      "text/plain": [
       "0.8333333333333334"
      ]
     },
     "execution_count": 53,
     "metadata": {},
     "output_type": "execute_result"
    }
   ],
   "source": [
    "(1 / soch(10, 3))*100"
   ]
  },
  {
   "cell_type": "markdown",
   "id": "d05dc994",
   "metadata": {},
   "source": [
    "Ответ: 0.83%"
   ]
  },
  {
   "cell_type": "markdown",
   "id": "c4e0e302",
   "metadata": {},
   "source": [
    "##### 3. В ящике имеется 15 деталей, из которых 9 окрашены. Рабочий случайным образом извлекает 3 детали.<br> Какова вероятность того, что все извлеченные детали окрашены?"
   ]
  },
  {
   "cell_type": "markdown",
   "id": "be85b2b2",
   "metadata": {},
   "source": [
    "Общее число исходов = $ C_{15}^{9} $, число благоприятствующих исходов = $ C_{9}^{3} $"
   ]
  },
  {
   "cell_type": "code",
   "execution_count": 54,
   "id": "68733537",
   "metadata": {},
   "outputs": [
    {
     "data": {
      "text/plain": [
       "18.461538461538463"
      ]
     },
     "execution_count": 54,
     "metadata": {},
     "output_type": "execute_result"
    }
   ],
   "source": [
    "(soch(9, 3) / soch(15, 3))*100"
   ]
  },
  {
   "cell_type": "markdown",
   "id": "3f9e8694",
   "metadata": {},
   "source": [
    "Ответ: 18.46%"
   ]
  },
  {
   "cell_type": "markdown",
   "id": "97b0d7b0",
   "metadata": {},
   "source": [
    "##### 4. В лотерее 100 билетов. Из них 2 выигрышных.<br>Какова вероятность того, что 2 приобретенных билета окажутся выигрышными?"
   ]
  },
  {
   "cell_type": "markdown",
   "id": "1569bb78",
   "metadata": {},
   "source": [
    "Общее число исходов = $ C_{100}^{2} $, число благоприятствующих исходов = $ C_{2}^{2} $ == 1"
   ]
  },
  {
   "cell_type": "code",
   "execution_count": 55,
   "id": "79787a5e",
   "metadata": {},
   "outputs": [
    {
     "data": {
      "text/plain": [
       "0.0202020202020202"
      ]
     },
     "execution_count": 55,
     "metadata": {},
     "output_type": "execute_result"
    }
   ],
   "source": [
    "(1 / soch(100, 2))*100"
   ]
  },
  {
   "cell_type": "markdown",
   "id": "613f0bc0",
   "metadata": {},
   "source": [
    "Ответ: 0.02%"
   ]
  }
 ],
 "metadata": {
  "kernelspec": {
   "display_name": "Python 3 (ipykernel)",
   "language": "python",
   "name": "python3"
  },
  "language_info": {
   "codemirror_mode": {
    "name": "ipython",
    "version": 3
   },
   "file_extension": ".py",
   "mimetype": "text/x-python",
   "name": "python",
   "nbconvert_exporter": "python",
   "pygments_lexer": "ipython3",
   "version": "3.11.3"
  }
 },
 "nbformat": 4,
 "nbformat_minor": 5
}
